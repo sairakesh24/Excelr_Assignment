{
 "cells": [
  {
   "cell_type": "code",
   "execution_count": 5,
   "id": "c9f01403-07b6-495e-a55f-dfcbd83e1043",
   "metadata": {},
   "outputs": [
    {
     "name": "stdout",
     "output_type": "stream",
     "text": [
      "Sample Mean: 1.2386666666666666\n",
      "Sample Standard Deviation: 0.19316412956959936\n",
      "\n",
      "99% Confidence Interval using sample standard deviation:\n",
      "Critical t-value: 2.976842734370834\n",
      "Margin of Error: 0.14846932822817596\n",
      "Confidence Interval: 1.0901973384384906 1.3871359948948425\n",
      "\n",
      "99% Confidence Interval using known population standard deviation:\n",
      "Known Population Standard Deviation: 0.2\n",
      "Critical z-value: 2.5758293035489004\n",
      "Margin of Error: 0.13301525327090588\n",
      "Confidence Interval: 1.1056514133957607 1.3716819199375725\n"
     ]
    }
   ],
   "source": [
    "from scipy import stats\n",
    "import numpy as np\n",
    "\n",
    "# Given data: Durability of print-heads (in millions of characters)\n",
    "durability_data = np.array([1.13, 1.55, 1.43, 0.92, 1.25, 1.36, 1.32, 0.85, 1.07, 1.48, \n",
    "                            1.20, 1.33, 1.18, 1.22, 1.29])\n",
    "\n",
    "# Task (a): Build 99% Confidence Interval using Sample Standard Deviation\n",
    "# Sample mean and sample standard deviation\n",
    "sample_mean = np.mean(durability_data)\n",
    "sample_std = np.std(durability_data, ddof=1)\n",
    "n = len(durability_data)\n",
    "confidence_level = 0.99\n",
    "\n",
    "# Using t-distribution for confidence interval\n",
    "t_critical = stats.t.ppf((1 + confidence_level) / 2, df=n-1)\n",
    "margin_of_error_sample = t_critical * (sample_std / np.sqrt(n))\n",
    "\n",
    "confidence_interval_sample = (sample_mean - margin_of_error_sample, sample_mean + margin_of_error_sample)\n",
    "\n",
    "# Task (b): Build 99% Confidence Interval using Known Population Standard Deviation\n",
    "population_std = 0.2\n",
    "z_critical = stats.norm.ppf((1 + confidence_level) / 2)\n",
    "margin_of_error_pop = z_critical * (population_std / np.sqrt(n))\n",
    "\n",
    "confidence_interval_pop = (sample_mean - margin_of_error_pop, sample_mean + margin_of_error_pop)\n",
    "\n",
    "# Prepare the notebook content\n",
    "output_file = '/mnt/data/estimation_confidence_intervals.ipynb'\n",
    "\n",
    "# Summary of results\n",
    "confidence_interval_sample, confidence_interval_pop\n",
    "print(\"Sample Mean:\",sample_mean)\n",
    "print(\"Sample Standard Deviation:\",sample_std)\n",
    "\n",
    "print(\"\\n99% Confidence Interval using sample standard deviation:\")\n",
    "print(\"Critical t-value:\",t_critical)\n",
    "print(\"Margin of Error:\",margin_of_error_sample)\n",
    "print(\"Confidence Interval:\",confidence_interval_sample[0],confidence_interval_sample[1])\n",
    "\n",
    "print(\"\\n99% Confidence Interval using known population standard deviation:\")\n",
    "print(\"Known Population Standard Deviation:\",population_std)\n",
    "print(\"Critical z-value:\",z_critical)\n",
    "print(\"Margin of Error:\",margin_of_error_pop)\n",
    "print(\"Confidence Interval:\",confidence_interval_pop[0],confidence_interval_pop[1])"
   ]
  },
  {
   "cell_type": "code",
   "execution_count": null,
   "id": "e156010d-1af7-4306-b7b0-b2f5775fc94f",
   "metadata": {},
   "outputs": [],
   "source": []
  }
 ],
 "metadata": {
  "kernelspec": {
   "display_name": "Python 3 (ipykernel)",
   "language": "python",
   "name": "python3"
  },
  "language_info": {
   "codemirror_mode": {
    "name": "ipython",
    "version": 3
   },
   "file_extension": ".py",
   "mimetype": "text/x-python",
   "name": "python",
   "nbconvert_exporter": "python",
   "pygments_lexer": "ipython3",
   "version": "3.12.4"
  }
 },
 "nbformat": 4,
 "nbformat_minor": 5
}
