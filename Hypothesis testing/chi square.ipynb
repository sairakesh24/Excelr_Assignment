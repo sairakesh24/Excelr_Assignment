{
 "cells": [
  {
   "cell_type": "code",
   "execution_count": 7,
   "id": "83b49985-36bb-44ae-8c80-5eb5543e20dd",
   "metadata": {},
   "outputs": [
    {
     "name": "stdout",
     "output_type": "stream",
     "text": [
      "Chi-Square Test for Independence\n",
      "Observed Data:\n",
      " [[ 50  70]\n",
      " [ 80 100]\n",
      " [ 60  90]\n",
      " [ 30  50]\n",
      " [ 20  50]]\n",
      "\n",
      " Expected Frequencies:\n",
      " [[ 48.  72.]\n",
      " [ 72. 108.]\n",
      " [ 60.  90.]\n",
      " [ 32.  48.]\n",
      " [ 28.  42.]]\n",
      "\n",
      "Chi-Square Statistic: 5.638227513227513\n",
      "\n",
      "Degrees of Freedom: 4\n",
      "\n",
      "Critical Value: 9.487729036781154\n",
      "\n",
      "P-value: 0.22784371130697179\n"
     ]
    },
    {
     "ename": "NameError",
     "evalue": "name 'reject_null' is not defined",
     "output_type": "error",
     "traceback": [
      "\u001b[1;31m---------------------------------------------------------------------------\u001b[0m",
      "\u001b[1;31mNameError\u001b[0m                                 Traceback (most recent call last)",
      "Cell \u001b[1;32mIn[7], line 33\u001b[0m\n\u001b[0;32m     31\u001b[0m \u001b[38;5;28mprint\u001b[39m(\u001b[38;5;124m\"\u001b[39m\u001b[38;5;130;01m\\n\u001b[39;00m\u001b[38;5;124mCritical Value:\u001b[39m\u001b[38;5;124m\"\u001b[39m,critical_value)\n\u001b[0;32m     32\u001b[0m \u001b[38;5;28mprint\u001b[39m(\u001b[38;5;124m\"\u001b[39m\u001b[38;5;130;01m\\n\u001b[39;00m\u001b[38;5;124mP-value:\u001b[39m\u001b[38;5;124m\"\u001b[39m,p_val)\n\u001b[1;32m---> 33\u001b[0m \u001b[38;5;28mprint\u001b[39m(\u001b[38;5;124m\"\u001b[39m\u001b[38;5;130;01m\\n\u001b[39;00m\u001b[38;5;124mReject the null hypothesis:\u001b[39m\u001b[38;5;124m\"\u001b[39m,reject_null)\n\u001b[0;32m     34\u001b[0m \u001b[38;5;28mprint\u001b[39m(\u001b[38;5;124m\"\u001b[39m\u001b[38;5;130;01m\\n\u001b[39;00m\u001b[38;5;124m\"\u001b[39m)\n\u001b[0;32m     36\u001b[0m \u001b[38;5;28;01mif\u001b[39;00m reject_null:\n",
      "\u001b[1;31mNameError\u001b[0m: name 'reject_null' is not defined"
     ]
    }
   ],
   "source": [
    "import numpy as np\n",
    "import scipy.stats as stats\n",
    "\n",
    "# Provided data in a contingency table\n",
    "observed = np.array([[50, 70], [80, 100], [60, 90], [30, 50], [20, 50]])\n",
    "\n",
    "# Task 1: State the Hypotheses\n",
    "# Null Hypothesis (H0): There is no association between the type of device and customer satisfaction.\n",
    "# Alternative Hypothesis (H1): There is an association between the type of device and customer satisfaction.\n",
    "\n",
    "# Task 2: Compute the Chi-Square Statistic\n",
    "chi2_stat, p_val, dof, expected = stats.chi2_contingency(observed)\n",
    "\n",
    "# Task 3: Determine the Critical Value\n",
    "alpha = 0.05  # significance level\n",
    "critical_value = stats.chi2.ppf(1 - alpha, df=dof)\n",
    "\n",
    "# Task 4: Make a Decision\n",
    "decision = \"Reject the null hypothesis\" if chi2_stat > critical_value else \"Reject the null hypothesis\"\n",
    "\n",
    "# Prepare the notebook content\n",
    "output_file = '/mnt/data/chi_square_test_device_satisfaction.ipynb'\n",
    "\n",
    "# Summary of results\n",
    "chi2_stat, p_val, critical_value, decision\n",
    "print(\"Chi-Square Test for Independence\")\n",
    "print(\"Observed Data:\\n\",observed)\n",
    "print(\"\\n Expected Frequencies:\\n\",expected)\n",
    "print(\"\\nChi-Square Statistic:\",chi2_stat)\n",
    "print(\"\\nDegrees of Freedom:\",dof)\n",
    "print(\"\\nCritical Value:\",critical_value)\n",
    "print(\"\\nP-value:\",p_val)\n",
    "print(\"\\nReject the null hypothesis:\",reject_null)\n",
    "print(\"\\n\")\n",
    "\n",
    "if reject_null:\n",
    "    print(\"Conclusion: There is a significant association between the type of device and customer satisfaction level.\")\n",
    "else:\n",
    "    print(\"Conclusion: There is no significant association between the type of device and customer satisfaction level.\")"
   ]
  },
  {
   "cell_type": "code",
   "execution_count": null,
   "id": "63446dfe-0813-4ece-8720-458b7c137f4f",
   "metadata": {},
   "outputs": [],
   "source": []
  }
 ],
 "metadata": {
  "kernelspec": {
   "display_name": "Python 3 (ipykernel)",
   "language": "python",
   "name": "python3"
  },
  "language_info": {
   "codemirror_mode": {
    "name": "ipython",
    "version": 3
   },
   "file_extension": ".py",
   "mimetype": "text/x-python",
   "name": "python",
   "nbconvert_exporter": "python",
   "pygments_lexer": "ipython3",
   "version": "3.12.4"
  }
 },
 "nbformat": 4,
 "nbformat_minor": 5
}
