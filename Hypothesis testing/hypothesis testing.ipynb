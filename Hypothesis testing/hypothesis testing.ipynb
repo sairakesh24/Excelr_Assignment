{
 "cells": [
  {
   "cell_type": "code",
   "execution_count": 6,
   "id": "af7764b2-f7e3-4ec4-b901-dd548c568109",
   "metadata": {},
   "outputs": [
    {
     "name": "stdout",
     "output_type": "stream",
     "text": [
      "Hypothesis Testing for Weekly Operating Costs\n",
      "\n",
      "Theoretical Mean Weekly Cost: 4000\n",
      "\n",
      "Sample Mean Weekly Cost: 3050\n",
      "\n",
      "Sample Size: 25\n",
      "\n",
      "Standard Deviation of Weekly Operating Cost: 125\n",
      "\n",
      "Test Statistic (t): -38.0\n",
      "\n",
      "Critical Value at alpha={alpha}: 1.6448536269514722\n",
      "\n",
      "Reject the null hypothesis: False\n",
      "\n",
      "\n",
      "Conclusion: There is not enough evidence to support the restaurant owners' claim that the weekly operating costs are higher than the model suggests.\n"
     ]
    }
   ],
   "source": [
    "# Hypothesis testing for weekly operating costs\n",
    "\n",
    "import numpy as np\n",
    "from scipy import stats\n",
    "\n",
    "# Given data\n",
    "sample_mean = 3050  # mean weekly cost of the sample\n",
    "X_mean = 600  # mean number of units produced per week\n",
    "std_dev_units = 25  # standard deviation of units produced\n",
    "n = 25  # number of restaurants\n",
    "alpha = 0.05  # significance level\n",
    "\n",
    "# 1. Theoretical weekly operating cost model: W = 1000 + 5 * X\n",
    "theoretical_mean = 1000 + 5 * X_mean  # for X = 600\n",
    "\n",
    "# 2. Calculate the test statistic (t)\n",
    "# Population standard deviation for cost model\n",
    "std_dev_cost = 5 * std_dev_units\n",
    "\n",
    "# Standard error (SE) of the mean\n",
    "standard_error = std_dev_cost / np.sqrt(sample_size)\n",
    "\n",
    "# Test statistic (t)\n",
    "test_stat = (sample_mean - theoretical_mean) / standard_error\n",
    "\n",
    "# 3. Critical value for alpha = 0.05 (one-tailed test)\n",
    "critical_value = stats.norm.ppf(1 - alpha)\n",
    "\n",
    "# 4. Make a decision: compare test statistic with the critical value\n",
    "reject_null = test_stat > critical_value\n",
    "\n",
    "# Prepare the notebook content\n",
    "output_file = '/mnt/data/hypothesis_testing_weekly_costs.ipynb'\n",
    "\n",
    "# Summary of results\n",
    "test_stat, critical_value, decision\n",
    "print(\"Hypothesis Testing for Weekly Operating Costs\")\n",
    "print(\"\\nTheoretical Mean Weekly Cost:\",theoretical_mean)\n",
    "print(\"\\nSample Mean Weekly Cost:\",sample_mean)\n",
    "print(\"\\nSample Size:\",n)\n",
    "print(\"\\nStandard Deviation of Weekly Operating Cost:\", std_dev_cost)\n",
    "print(\"\\nTest Statistic (t):\",test_stat)\n",
    "print(\"\\nCritical Value at alpha={alpha}:\",critical_value)\n",
    "print(\"\\nReject the null hypothesis:\",reject_null)\n",
    "print(\"\\n\")\n",
    "\n",
    "if reject_null:\n",
    "    print(\"Conclusion: There is strong evidence to support the restaurant owners' claim that the weekly operating costs are higher than the model suggests.\")\n",
    "else:\n",
    "    print(\"Conclusion: There is not enough evidence to support the restaurant owners' claim that the weekly operating costs are higher than the model suggests.\")\n"
   ]
  },
  {
   "cell_type": "code",
   "execution_count": null,
   "id": "aa111484-7346-4277-8217-20c8f5977d0c",
   "metadata": {},
   "outputs": [],
   "source": []
  }
 ],
 "metadata": {
  "kernelspec": {
   "display_name": "Python 3 (ipykernel)",
   "language": "python",
   "name": "python3"
  },
  "language_info": {
   "codemirror_mode": {
    "name": "ipython",
    "version": 3
   },
   "file_extension": ".py",
   "mimetype": "text/x-python",
   "name": "python",
   "nbconvert_exporter": "python",
   "pygments_lexer": "ipython3",
   "version": "3.12.4"
  }
 },
 "nbformat": 4,
 "nbformat_minor": 5
}
